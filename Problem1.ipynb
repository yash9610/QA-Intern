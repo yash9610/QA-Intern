def Middle_Character(list):
    return list[-1]

# Example usage:
Y = ['a', 'm', 'm', 'a', 'd']
middle_character = Middle_Character(Y)
print(middle_character)  

Z = ['i', 'i', 'e', 'd', 'e', 'r', 'd', 'r', 'v']
middle_character = Middle_Character(Z)
print(middle_character)


